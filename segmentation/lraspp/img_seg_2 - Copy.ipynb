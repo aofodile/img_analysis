{
 "cells": [
  {
   "cell_type": "code",
   "execution_count": 1,
   "id": "acca5fb5-43cd-4612-95b4-7210c817b2ce",
   "metadata": {},
   "outputs": [
    {
     "data": {
      "text/plain": [
       "<contextlib.ExitStack at 0x18a50a1f4d0>"
      ]
     },
     "execution_count": 1,
     "metadata": {},
     "output_type": "execute_result"
    }
   ],
   "source": [
    "import torch\n",
    "import torch.nn as nn\n",
    "import torch.optim as optim\n",
    "from torch.optim import lr_scheduler\n",
    "import torch.backends.cudnn as cudnn\n",
    "import torchvision\n",
    "from torchvision import datasets, models, transforms, tv_tensors\n",
    "import torch.utils.data\n",
    "from torchvision.transforms import v2\n",
    "from torchvision.io import read_image\n",
    "from torch.nn.utils.rnn import pad_sequence\n",
    "from torchvision.utils import draw_bounding_boxes\n",
    "\n",
    "import numpy as np\n",
    "import matplotlib.pyplot as plt\n",
    "import time\n",
    "import os\n",
    "from PIL import Image\n",
    "from tempfile import TemporaryDirectory\n",
    "plt.ion()   # interactive mode"
   ]
  },
  {
   "cell_type": "code",
   "execution_count": 2,
   "id": "b779c75b-dbbc-4f17-b9cd-1df11d3f1ec3",
   "metadata": {},
   "outputs": [],
   "source": [
    "#from torchvision.io.image import decode_image\n",
    "from torchvision.models.segmentation import deeplabv3_resnet50, DeepLabV3_ResNet50_Weights #fcn_resnet50, FCN_ResNet50_Weights\n",
    "from torchvision.models.segmentation import lraspp_mobilenet_v3_large, LRASPP_MobileNet_V3_Large_Weights\n",
    "from torchvision.models.segmentation.lraspp import LRASPPHead\n",
    "from torchvision.transforms.functional import to_pil_image"
   ]
  },
  {
   "cell_type": "code",
   "execution_count": 3,
   "id": "22b74696-1e58-4692-b0c1-4cb755d24383",
   "metadata": {},
   "outputs": [],
   "source": [
    "import coco_utils, presets, transforms, utils, v2_extras\n",
    "from torchvision.datasets import wrap_dataset_for_transforms_v2"
   ]
  },
  {
   "cell_type": "code",
   "execution_count": 4,
   "id": "02f561e0-a485-48de-a48d-47cd12f2692b",
   "metadata": {},
   "outputs": [],
   "source": [
    "from torchvision.models import mobilenet_v3_large, MobileNet_V3_Large_Weights"
   ]
  },
  {
   "cell_type": "code",
   "execution_count": 5,
   "id": "02642081-6fcc-445c-be4e-a5eee7257718",
   "metadata": {},
   "outputs": [
    {
     "data": {
      "text/plain": [
       "<torch._C.Generator at 0x18a48ac88d0>"
      ]
     },
     "execution_count": 5,
     "metadata": {},
     "output_type": "execute_result"
    }
   ],
   "source": [
    "torch.manual_seed(0)"
   ]
  },
  {
   "cell_type": "code",
   "execution_count": 6,
   "id": "6a8f9c80-924d-49b6-8536-3f201bbc2bf6",
   "metadata": {
    "scrolled": true
   },
   "outputs": [
    {
     "data": {
      "text/plain": [
       "True"
      ]
     },
     "execution_count": 6,
     "metadata": {},
     "output_type": "execute_result"
    }
   ],
   "source": [
    "torch.cuda.is_available()"
   ]
  },
  {
   "cell_type": "code",
   "execution_count": 7,
   "id": "29649edf-b292-4992-ac7d-bbb7dc5f04f4",
   "metadata": {},
   "outputs": [
    {
     "name": "stdout",
     "output_type": "stream",
     "text": [
      "Using cuda device\n"
     ]
    }
   ],
   "source": [
    "device=torch.device('cuda')\n",
    "print(f\"Using {device} device\")"
   ]
  },
  {
   "cell_type": "code",
   "execution_count": 8,
   "id": "27adce3a-67f8-4318-a9d9-b4e2bc6d2a7e",
   "metadata": {},
   "outputs": [],
   "source": [
    "cudnn.enabled = True"
   ]
  },
  {
   "cell_type": "code",
   "execution_count": 9,
   "id": "8f494776-c25c-41dc-9029-06bed415f005",
   "metadata": {},
   "outputs": [],
   "source": [
    "cudnn.benchmark = True"
   ]
  },
  {
   "cell_type": "code",
   "execution_count": 10,
   "id": "1d107915-a858-4fbd-b9cd-84c84e27b9a5",
   "metadata": {},
   "outputs": [],
   "source": [
    "num_classes=4"
   ]
  },
  {
   "cell_type": "code",
   "execution_count": 11,
   "id": "fc4aea7b-b5d6-424a-b93b-aa48c55b2da4",
   "metadata": {},
   "outputs": [],
   "source": [
    "model = lraspp_mobilenet_v3_large(weights=None,weight_backbone=None)"
   ]
  },
  {
   "cell_type": "code",
   "execution_count": 12,
   "id": "b3880f50-4f80-4063-8934-c0a8195f2d24",
   "metadata": {},
   "outputs": [],
   "source": [
    "model.classifier.high_classifier.out_channels= num_classes\n",
    "model.classifier.low_classifier.out_channels= num_classes"
   ]
  },
  {
   "cell_type": "code",
   "execution_count": 13,
   "id": "b6df550f-0abe-4deb-85d2-9cff79b91e72",
   "metadata": {
    "scrolled": true
   },
   "outputs": [
    {
     "data": {
      "text/plain": [
       "LRASPP(\n",
       "  (backbone): IntermediateLayerGetter(\n",
       "    (0): Conv2dNormActivation(\n",
       "      (0): Conv2d(3, 16, kernel_size=(3, 3), stride=(2, 2), padding=(1, 1), bias=False)\n",
       "      (1): BatchNorm2d(16, eps=0.001, momentum=0.01, affine=True, track_running_stats=True)\n",
       "      (2): Hardswish()\n",
       "    )\n",
       "    (1): InvertedResidual(\n",
       "      (block): Sequential(\n",
       "        (0): Conv2dNormActivation(\n",
       "          (0): Conv2d(16, 16, kernel_size=(3, 3), stride=(1, 1), padding=(1, 1), groups=16, bias=False)\n",
       "          (1): BatchNorm2d(16, eps=0.001, momentum=0.01, affine=True, track_running_stats=True)\n",
       "          (2): ReLU(inplace=True)\n",
       "        )\n",
       "        (1): Conv2dNormActivation(\n",
       "          (0): Conv2d(16, 16, kernel_size=(1, 1), stride=(1, 1), bias=False)\n",
       "          (1): BatchNorm2d(16, eps=0.001, momentum=0.01, affine=True, track_running_stats=True)\n",
       "        )\n",
       "      )\n",
       "    )\n",
       "    (2): InvertedResidual(\n",
       "      (block): Sequential(\n",
       "        (0): Conv2dNormActivation(\n",
       "          (0): Conv2d(16, 64, kernel_size=(1, 1), stride=(1, 1), bias=False)\n",
       "          (1): BatchNorm2d(64, eps=0.001, momentum=0.01, affine=True, track_running_stats=True)\n",
       "          (2): ReLU(inplace=True)\n",
       "        )\n",
       "        (1): Conv2dNormActivation(\n",
       "          (0): Conv2d(64, 64, kernel_size=(3, 3), stride=(2, 2), padding=(1, 1), groups=64, bias=False)\n",
       "          (1): BatchNorm2d(64, eps=0.001, momentum=0.01, affine=True, track_running_stats=True)\n",
       "          (2): ReLU(inplace=True)\n",
       "        )\n",
       "        (2): Conv2dNormActivation(\n",
       "          (0): Conv2d(64, 24, kernel_size=(1, 1), stride=(1, 1), bias=False)\n",
       "          (1): BatchNorm2d(24, eps=0.001, momentum=0.01, affine=True, track_running_stats=True)\n",
       "        )\n",
       "      )\n",
       "    )\n",
       "    (3): InvertedResidual(\n",
       "      (block): Sequential(\n",
       "        (0): Conv2dNormActivation(\n",
       "          (0): Conv2d(24, 72, kernel_size=(1, 1), stride=(1, 1), bias=False)\n",
       "          (1): BatchNorm2d(72, eps=0.001, momentum=0.01, affine=True, track_running_stats=True)\n",
       "          (2): ReLU(inplace=True)\n",
       "        )\n",
       "        (1): Conv2dNormActivation(\n",
       "          (0): Conv2d(72, 72, kernel_size=(3, 3), stride=(1, 1), padding=(1, 1), groups=72, bias=False)\n",
       "          (1): BatchNorm2d(72, eps=0.001, momentum=0.01, affine=True, track_running_stats=True)\n",
       "          (2): ReLU(inplace=True)\n",
       "        )\n",
       "        (2): Conv2dNormActivation(\n",
       "          (0): Conv2d(72, 24, kernel_size=(1, 1), stride=(1, 1), bias=False)\n",
       "          (1): BatchNorm2d(24, eps=0.001, momentum=0.01, affine=True, track_running_stats=True)\n",
       "        )\n",
       "      )\n",
       "    )\n",
       "    (4): InvertedResidual(\n",
       "      (block): Sequential(\n",
       "        (0): Conv2dNormActivation(\n",
       "          (0): Conv2d(24, 72, kernel_size=(1, 1), stride=(1, 1), bias=False)\n",
       "          (1): BatchNorm2d(72, eps=0.001, momentum=0.01, affine=True, track_running_stats=True)\n",
       "          (2): ReLU(inplace=True)\n",
       "        )\n",
       "        (1): Conv2dNormActivation(\n",
       "          (0): Conv2d(72, 72, kernel_size=(5, 5), stride=(2, 2), padding=(2, 2), groups=72, bias=False)\n",
       "          (1): BatchNorm2d(72, eps=0.001, momentum=0.01, affine=True, track_running_stats=True)\n",
       "          (2): ReLU(inplace=True)\n",
       "        )\n",
       "        (2): SqueezeExcitation(\n",
       "          (avgpool): AdaptiveAvgPool2d(output_size=1)\n",
       "          (fc1): Conv2d(72, 24, kernel_size=(1, 1), stride=(1, 1))\n",
       "          (fc2): Conv2d(24, 72, kernel_size=(1, 1), stride=(1, 1))\n",
       "          (activation): ReLU()\n",
       "          (scale_activation): Hardsigmoid()\n",
       "        )\n",
       "        (3): Conv2dNormActivation(\n",
       "          (0): Conv2d(72, 40, kernel_size=(1, 1), stride=(1, 1), bias=False)\n",
       "          (1): BatchNorm2d(40, eps=0.001, momentum=0.01, affine=True, track_running_stats=True)\n",
       "        )\n",
       "      )\n",
       "    )\n",
       "    (5): InvertedResidual(\n",
       "      (block): Sequential(\n",
       "        (0): Conv2dNormActivation(\n",
       "          (0): Conv2d(40, 120, kernel_size=(1, 1), stride=(1, 1), bias=False)\n",
       "          (1): BatchNorm2d(120, eps=0.001, momentum=0.01, affine=True, track_running_stats=True)\n",
       "          (2): ReLU(inplace=True)\n",
       "        )\n",
       "        (1): Conv2dNormActivation(\n",
       "          (0): Conv2d(120, 120, kernel_size=(5, 5), stride=(1, 1), padding=(2, 2), groups=120, bias=False)\n",
       "          (1): BatchNorm2d(120, eps=0.001, momentum=0.01, affine=True, track_running_stats=True)\n",
       "          (2): ReLU(inplace=True)\n",
       "        )\n",
       "        (2): SqueezeExcitation(\n",
       "          (avgpool): AdaptiveAvgPool2d(output_size=1)\n",
       "          (fc1): Conv2d(120, 32, kernel_size=(1, 1), stride=(1, 1))\n",
       "          (fc2): Conv2d(32, 120, kernel_size=(1, 1), stride=(1, 1))\n",
       "          (activation): ReLU()\n",
       "          (scale_activation): Hardsigmoid()\n",
       "        )\n",
       "        (3): Conv2dNormActivation(\n",
       "          (0): Conv2d(120, 40, kernel_size=(1, 1), stride=(1, 1), bias=False)\n",
       "          (1): BatchNorm2d(40, eps=0.001, momentum=0.01, affine=True, track_running_stats=True)\n",
       "        )\n",
       "      )\n",
       "    )\n",
       "    (6): InvertedResidual(\n",
       "      (block): Sequential(\n",
       "        (0): Conv2dNormActivation(\n",
       "          (0): Conv2d(40, 120, kernel_size=(1, 1), stride=(1, 1), bias=False)\n",
       "          (1): BatchNorm2d(120, eps=0.001, momentum=0.01, affine=True, track_running_stats=True)\n",
       "          (2): ReLU(inplace=True)\n",
       "        )\n",
       "        (1): Conv2dNormActivation(\n",
       "          (0): Conv2d(120, 120, kernel_size=(5, 5), stride=(1, 1), padding=(2, 2), groups=120, bias=False)\n",
       "          (1): BatchNorm2d(120, eps=0.001, momentum=0.01, affine=True, track_running_stats=True)\n",
       "          (2): ReLU(inplace=True)\n",
       "        )\n",
       "        (2): SqueezeExcitation(\n",
       "          (avgpool): AdaptiveAvgPool2d(output_size=1)\n",
       "          (fc1): Conv2d(120, 32, kernel_size=(1, 1), stride=(1, 1))\n",
       "          (fc2): Conv2d(32, 120, kernel_size=(1, 1), stride=(1, 1))\n",
       "          (activation): ReLU()\n",
       "          (scale_activation): Hardsigmoid()\n",
       "        )\n",
       "        (3): Conv2dNormActivation(\n",
       "          (0): Conv2d(120, 40, kernel_size=(1, 1), stride=(1, 1), bias=False)\n",
       "          (1): BatchNorm2d(40, eps=0.001, momentum=0.01, affine=True, track_running_stats=True)\n",
       "        )\n",
       "      )\n",
       "    )\n",
       "    (7): InvertedResidual(\n",
       "      (block): Sequential(\n",
       "        (0): Conv2dNormActivation(\n",
       "          (0): Conv2d(40, 240, kernel_size=(1, 1), stride=(1, 1), bias=False)\n",
       "          (1): BatchNorm2d(240, eps=0.001, momentum=0.01, affine=True, track_running_stats=True)\n",
       "          (2): Hardswish()\n",
       "        )\n",
       "        (1): Conv2dNormActivation(\n",
       "          (0): Conv2d(240, 240, kernel_size=(3, 3), stride=(2, 2), padding=(1, 1), groups=240, bias=False)\n",
       "          (1): BatchNorm2d(240, eps=0.001, momentum=0.01, affine=True, track_running_stats=True)\n",
       "          (2): Hardswish()\n",
       "        )\n",
       "        (2): Conv2dNormActivation(\n",
       "          (0): Conv2d(240, 80, kernel_size=(1, 1), stride=(1, 1), bias=False)\n",
       "          (1): BatchNorm2d(80, eps=0.001, momentum=0.01, affine=True, track_running_stats=True)\n",
       "        )\n",
       "      )\n",
       "    )\n",
       "    (8): InvertedResidual(\n",
       "      (block): Sequential(\n",
       "        (0): Conv2dNormActivation(\n",
       "          (0): Conv2d(80, 200, kernel_size=(1, 1), stride=(1, 1), bias=False)\n",
       "          (1): BatchNorm2d(200, eps=0.001, momentum=0.01, affine=True, track_running_stats=True)\n",
       "          (2): Hardswish()\n",
       "        )\n",
       "        (1): Conv2dNormActivation(\n",
       "          (0): Conv2d(200, 200, kernel_size=(3, 3), stride=(1, 1), padding=(1, 1), groups=200, bias=False)\n",
       "          (1): BatchNorm2d(200, eps=0.001, momentum=0.01, affine=True, track_running_stats=True)\n",
       "          (2): Hardswish()\n",
       "        )\n",
       "        (2): Conv2dNormActivation(\n",
       "          (0): Conv2d(200, 80, kernel_size=(1, 1), stride=(1, 1), bias=False)\n",
       "          (1): BatchNorm2d(80, eps=0.001, momentum=0.01, affine=True, track_running_stats=True)\n",
       "        )\n",
       "      )\n",
       "    )\n",
       "    (9): InvertedResidual(\n",
       "      (block): Sequential(\n",
       "        (0): Conv2dNormActivation(\n",
       "          (0): Conv2d(80, 184, kernel_size=(1, 1), stride=(1, 1), bias=False)\n",
       "          (1): BatchNorm2d(184, eps=0.001, momentum=0.01, affine=True, track_running_stats=True)\n",
       "          (2): Hardswish()\n",
       "        )\n",
       "        (1): Conv2dNormActivation(\n",
       "          (0): Conv2d(184, 184, kernel_size=(3, 3), stride=(1, 1), padding=(1, 1), groups=184, bias=False)\n",
       "          (1): BatchNorm2d(184, eps=0.001, momentum=0.01, affine=True, track_running_stats=True)\n",
       "          (2): Hardswish()\n",
       "        )\n",
       "        (2): Conv2dNormActivation(\n",
       "          (0): Conv2d(184, 80, kernel_size=(1, 1), stride=(1, 1), bias=False)\n",
       "          (1): BatchNorm2d(80, eps=0.001, momentum=0.01, affine=True, track_running_stats=True)\n",
       "        )\n",
       "      )\n",
       "    )\n",
       "    (10): InvertedResidual(\n",
       "      (block): Sequential(\n",
       "        (0): Conv2dNormActivation(\n",
       "          (0): Conv2d(80, 184, kernel_size=(1, 1), stride=(1, 1), bias=False)\n",
       "          (1): BatchNorm2d(184, eps=0.001, momentum=0.01, affine=True, track_running_stats=True)\n",
       "          (2): Hardswish()\n",
       "        )\n",
       "        (1): Conv2dNormActivation(\n",
       "          (0): Conv2d(184, 184, kernel_size=(3, 3), stride=(1, 1), padding=(1, 1), groups=184, bias=False)\n",
       "          (1): BatchNorm2d(184, eps=0.001, momentum=0.01, affine=True, track_running_stats=True)\n",
       "          (2): Hardswish()\n",
       "        )\n",
       "        (2): Conv2dNormActivation(\n",
       "          (0): Conv2d(184, 80, kernel_size=(1, 1), stride=(1, 1), bias=False)\n",
       "          (1): BatchNorm2d(80, eps=0.001, momentum=0.01, affine=True, track_running_stats=True)\n",
       "        )\n",
       "      )\n",
       "    )\n",
       "    (11): InvertedResidual(\n",
       "      (block): Sequential(\n",
       "        (0): Conv2dNormActivation(\n",
       "          (0): Conv2d(80, 480, kernel_size=(1, 1), stride=(1, 1), bias=False)\n",
       "          (1): BatchNorm2d(480, eps=0.001, momentum=0.01, affine=True, track_running_stats=True)\n",
       "          (2): Hardswish()\n",
       "        )\n",
       "        (1): Conv2dNormActivation(\n",
       "          (0): Conv2d(480, 480, kernel_size=(3, 3), stride=(1, 1), padding=(1, 1), groups=480, bias=False)\n",
       "          (1): BatchNorm2d(480, eps=0.001, momentum=0.01, affine=True, track_running_stats=True)\n",
       "          (2): Hardswish()\n",
       "        )\n",
       "        (2): SqueezeExcitation(\n",
       "          (avgpool): AdaptiveAvgPool2d(output_size=1)\n",
       "          (fc1): Conv2d(480, 120, kernel_size=(1, 1), stride=(1, 1))\n",
       "          (fc2): Conv2d(120, 480, kernel_size=(1, 1), stride=(1, 1))\n",
       "          (activation): ReLU()\n",
       "          (scale_activation): Hardsigmoid()\n",
       "        )\n",
       "        (3): Conv2dNormActivation(\n",
       "          (0): Conv2d(480, 112, kernel_size=(1, 1), stride=(1, 1), bias=False)\n",
       "          (1): BatchNorm2d(112, eps=0.001, momentum=0.01, affine=True, track_running_stats=True)\n",
       "        )\n",
       "      )\n",
       "    )\n",
       "    (12): InvertedResidual(\n",
       "      (block): Sequential(\n",
       "        (0): Conv2dNormActivation(\n",
       "          (0): Conv2d(112, 672, kernel_size=(1, 1), stride=(1, 1), bias=False)\n",
       "          (1): BatchNorm2d(672, eps=0.001, momentum=0.01, affine=True, track_running_stats=True)\n",
       "          (2): Hardswish()\n",
       "        )\n",
       "        (1): Conv2dNormActivation(\n",
       "          (0): Conv2d(672, 672, kernel_size=(3, 3), stride=(1, 1), padding=(1, 1), groups=672, bias=False)\n",
       "          (1): BatchNorm2d(672, eps=0.001, momentum=0.01, affine=True, track_running_stats=True)\n",
       "          (2): Hardswish()\n",
       "        )\n",
       "        (2): SqueezeExcitation(\n",
       "          (avgpool): AdaptiveAvgPool2d(output_size=1)\n",
       "          (fc1): Conv2d(672, 168, kernel_size=(1, 1), stride=(1, 1))\n",
       "          (fc2): Conv2d(168, 672, kernel_size=(1, 1), stride=(1, 1))\n",
       "          (activation): ReLU()\n",
       "          (scale_activation): Hardsigmoid()\n",
       "        )\n",
       "        (3): Conv2dNormActivation(\n",
       "          (0): Conv2d(672, 112, kernel_size=(1, 1), stride=(1, 1), bias=False)\n",
       "          (1): BatchNorm2d(112, eps=0.001, momentum=0.01, affine=True, track_running_stats=True)\n",
       "        )\n",
       "      )\n",
       "    )\n",
       "    (13): InvertedResidual(\n",
       "      (block): Sequential(\n",
       "        (0): Conv2dNormActivation(\n",
       "          (0): Conv2d(112, 672, kernel_size=(1, 1), stride=(1, 1), bias=False)\n",
       "          (1): BatchNorm2d(672, eps=0.001, momentum=0.01, affine=True, track_running_stats=True)\n",
       "          (2): Hardswish()\n",
       "        )\n",
       "        (1): Conv2dNormActivation(\n",
       "          (0): Conv2d(672, 672, kernel_size=(5, 5), stride=(1, 1), padding=(4, 4), dilation=(2, 2), groups=672, bias=False)\n",
       "          (1): BatchNorm2d(672, eps=0.001, momentum=0.01, affine=True, track_running_stats=True)\n",
       "          (2): Hardswish()\n",
       "        )\n",
       "        (2): SqueezeExcitation(\n",
       "          (avgpool): AdaptiveAvgPool2d(output_size=1)\n",
       "          (fc1): Conv2d(672, 168, kernel_size=(1, 1), stride=(1, 1))\n",
       "          (fc2): Conv2d(168, 672, kernel_size=(1, 1), stride=(1, 1))\n",
       "          (activation): ReLU()\n",
       "          (scale_activation): Hardsigmoid()\n",
       "        )\n",
       "        (3): Conv2dNormActivation(\n",
       "          (0): Conv2d(672, 160, kernel_size=(1, 1), stride=(1, 1), bias=False)\n",
       "          (1): BatchNorm2d(160, eps=0.001, momentum=0.01, affine=True, track_running_stats=True)\n",
       "        )\n",
       "      )\n",
       "    )\n",
       "    (14): InvertedResidual(\n",
       "      (block): Sequential(\n",
       "        (0): Conv2dNormActivation(\n",
       "          (0): Conv2d(160, 960, kernel_size=(1, 1), stride=(1, 1), bias=False)\n",
       "          (1): BatchNorm2d(960, eps=0.001, momentum=0.01, affine=True, track_running_stats=True)\n",
       "          (2): Hardswish()\n",
       "        )\n",
       "        (1): Conv2dNormActivation(\n",
       "          (0): Conv2d(960, 960, kernel_size=(5, 5), stride=(1, 1), padding=(4, 4), dilation=(2, 2), groups=960, bias=False)\n",
       "          (1): BatchNorm2d(960, eps=0.001, momentum=0.01, affine=True, track_running_stats=True)\n",
       "          (2): Hardswish()\n",
       "        )\n",
       "        (2): SqueezeExcitation(\n",
       "          (avgpool): AdaptiveAvgPool2d(output_size=1)\n",
       "          (fc1): Conv2d(960, 240, kernel_size=(1, 1), stride=(1, 1))\n",
       "          (fc2): Conv2d(240, 960, kernel_size=(1, 1), stride=(1, 1))\n",
       "          (activation): ReLU()\n",
       "          (scale_activation): Hardsigmoid()\n",
       "        )\n",
       "        (3): Conv2dNormActivation(\n",
       "          (0): Conv2d(960, 160, kernel_size=(1, 1), stride=(1, 1), bias=False)\n",
       "          (1): BatchNorm2d(160, eps=0.001, momentum=0.01, affine=True, track_running_stats=True)\n",
       "        )\n",
       "      )\n",
       "    )\n",
       "    (15): InvertedResidual(\n",
       "      (block): Sequential(\n",
       "        (0): Conv2dNormActivation(\n",
       "          (0): Conv2d(160, 960, kernel_size=(1, 1), stride=(1, 1), bias=False)\n",
       "          (1): BatchNorm2d(960, eps=0.001, momentum=0.01, affine=True, track_running_stats=True)\n",
       "          (2): Hardswish()\n",
       "        )\n",
       "        (1): Conv2dNormActivation(\n",
       "          (0): Conv2d(960, 960, kernel_size=(5, 5), stride=(1, 1), padding=(4, 4), dilation=(2, 2), groups=960, bias=False)\n",
       "          (1): BatchNorm2d(960, eps=0.001, momentum=0.01, affine=True, track_running_stats=True)\n",
       "          (2): Hardswish()\n",
       "        )\n",
       "        (2): SqueezeExcitation(\n",
       "          (avgpool): AdaptiveAvgPool2d(output_size=1)\n",
       "          (fc1): Conv2d(960, 240, kernel_size=(1, 1), stride=(1, 1))\n",
       "          (fc2): Conv2d(240, 960, kernel_size=(1, 1), stride=(1, 1))\n",
       "          (activation): ReLU()\n",
       "          (scale_activation): Hardsigmoid()\n",
       "        )\n",
       "        (3): Conv2dNormActivation(\n",
       "          (0): Conv2d(960, 160, kernel_size=(1, 1), stride=(1, 1), bias=False)\n",
       "          (1): BatchNorm2d(160, eps=0.001, momentum=0.01, affine=True, track_running_stats=True)\n",
       "        )\n",
       "      )\n",
       "    )\n",
       "    (16): Conv2dNormActivation(\n",
       "      (0): Conv2d(160, 960, kernel_size=(1, 1), stride=(1, 1), bias=False)\n",
       "      (1): BatchNorm2d(960, eps=0.001, momentum=0.01, affine=True, track_running_stats=True)\n",
       "      (2): Hardswish()\n",
       "    )\n",
       "  )\n",
       "  (classifier): LRASPPHead(\n",
       "    (cbr): Sequential(\n",
       "      (0): Conv2d(960, 128, kernel_size=(1, 1), stride=(1, 1), bias=False)\n",
       "      (1): BatchNorm2d(128, eps=1e-05, momentum=0.1, affine=True, track_running_stats=True)\n",
       "      (2): ReLU(inplace=True)\n",
       "    )\n",
       "    (scale): Sequential(\n",
       "      (0): AdaptiveAvgPool2d(output_size=1)\n",
       "      (1): Conv2d(960, 128, kernel_size=(1, 1), stride=(1, 1), bias=False)\n",
       "      (2): Sigmoid()\n",
       "    )\n",
       "    (low_classifier): Conv2d(40, 4, kernel_size=(1, 1), stride=(1, 1))\n",
       "    (high_classifier): Conv2d(128, 4, kernel_size=(1, 1), stride=(1, 1))\n",
       "  )\n",
       ")"
      ]
     },
     "execution_count": 13,
     "metadata": {},
     "output_type": "execute_result"
    }
   ],
   "source": [
    "model"
   ]
  },
  {
   "cell_type": "raw",
   "id": "8392582f-0ea0-4a58-9c2c-5b42bf38fbc0",
   "metadata": {},
   "source": [
    "itransforms=LRASPP_MobileNet_V3_Large_Weights.DEFAULT.transforms()"
   ]
  },
  {
   "cell_type": "code",
   "execution_count": 14,
   "id": "b7f1ce98-fb35-47cb-8359-52d888394724",
   "metadata": {},
   "outputs": [],
   "source": [
    "transforms=v2.Compose([v2_extras.CocoDetectionToVOCSegmentation(),\n",
    "                       #v2.RandomResizedCrop((520), antialias=True),\n",
    "                       v2.Resize(520),v2.PILToTensor(),\n",
    "                       #v2.PILToTensor(),\n",
    "                       v2.ToDtype(torch.float32, scale=True),\n",
    "                       v2.Normalize([0.485, 0.456, 0.406], [0.229, 0.224, 0.225], inplace=True)])"
   ]
  },
  {
   "cell_type": "code",
   "execution_count": 15,
   "id": "a04b161f-d257-4ac2-8809-1d84eb140d7c",
   "metadata": {
    "scrolled": true
   },
   "outputs": [
    {
     "data": {
      "text/plain": [
       "Compose(\n",
       "      CocoDetectionToVOCSegmentation()\n",
       "      Resize(size=[520], interpolation=InterpolationMode.BILINEAR, antialias=True)\n",
       "      PILToTensor()\n",
       "      ToDtype(scale=True)\n",
       "      Normalize(mean=[0.485, 0.456, 0.406], std=[0.229, 0.224, 0.225], inplace=True)\n",
       ")"
      ]
     },
     "execution_count": 15,
     "metadata": {},
     "output_type": "execute_result"
    }
   ],
   "source": [
    "transforms"
   ]
  },
  {
   "cell_type": "code",
   "execution_count": 16,
   "id": "657696ed-45e6-4682-b763-cca14b22d676",
   "metadata": {},
   "outputs": [],
   "source": [
    "train=\"data/av_sem/train\"\n",
    "train_ann=\"data/av_sem/train/_annotations.coco.json\""
   ]
  },
  {
   "cell_type": "code",
   "execution_count": 17,
   "id": "8ece5e51-3f4e-4fde-b5c3-2dd00a42d814",
   "metadata": {},
   "outputs": [],
   "source": [
    "val=\"data/av_sem/valid\"\n",
    "val_ann=\"data/av_sem/valid/_annotations.coco.json\""
   ]
  },
  {
   "cell_type": "code",
   "execution_count": 18,
   "id": "b636e8b6-4dc8-4d1b-9abc-032aca651bbf",
   "metadata": {},
   "outputs": [
    {
     "name": "stdout",
     "output_type": "stream",
     "text": [
      "loading annotations into memory...\n",
      "Done (t=0.09s)\n",
      "creating index...\n",
      "index created!\n"
     ]
    }
   ],
   "source": [
    "dataset = torchvision.datasets.CocoDetection(train, train_ann, transforms=transforms)\n",
    "dataset = wrap_dataset_for_transforms_v2(dataset, target_keys={\"masks\", \"labels\"})"
   ]
  },
  {
   "cell_type": "code",
   "execution_count": 19,
   "id": "fb774345-f8ca-41eb-8637-bf4531c25966",
   "metadata": {},
   "outputs": [
    {
     "name": "stdout",
     "output_type": "stream",
     "text": [
      "loading annotations into memory...\n",
      "Done (t=0.04s)\n",
      "creating index...\n",
      "index created!\n"
     ]
    }
   ],
   "source": [
    "val_ds = datasets.CocoDetection(val,val_ann, transforms=transforms)\n",
    "val_ds = datasets.wrap_dataset_for_transforms_v2(val_ds, target_keys=[\"masks\",\"labels\"])"
   ]
  },
  {
   "cell_type": "code",
   "execution_count": 20,
   "id": "a61487f9-c83b-4a0a-9714-8e7787c446cc",
   "metadata": {},
   "outputs": [],
   "source": [
    "train_sampler = torch.utils.data.RandomSampler(dataset)\n",
    "test_sampler = torch.utils.data.SequentialSampler(val_ds)"
   ]
  },
  {
   "cell_type": "code",
   "execution_count": 21,
   "id": "7329f244-c2a6-436d-aa52-98b05e82371e",
   "metadata": {},
   "outputs": [
    {
     "data": {
      "text/plain": [
       "[0, 1, 2, 3, 4, 5, 6, 7, 8]"
      ]
     },
     "execution_count": 21,
     "metadata": {},
     "output_type": "execute_result"
    }
   ],
   "source": [
    "dataset.coco.getCatIds()"
   ]
  },
  {
   "cell_type": "code",
   "execution_count": 22,
   "id": "c7e5867d-d084-4a67-9da2-90c54cbb6184",
   "metadata": {},
   "outputs": [
    {
     "data": {
      "text/plain": [
       "{0: {'id': 0, 'name': 'air-force-air-vehicles', 'supercategory': 'none'},\n",
       " 1: {'id': 1, 'name': 'a-10', 'supercategory': 'air-force-air-vehicles'},\n",
       " 2: {'id': 2, 'name': 'ac-130', 'supercategory': 'air-force-air-vehicles'},\n",
       " 3: {'id': 3, 'name': 'b-1', 'supercategory': 'air-force-air-vehicles'},\n",
       " 4: {'id': 4, 'name': 'b-2', 'supercategory': 'air-force-air-vehicles'},\n",
       " 5: {'id': 5, 'name': 'b-52', 'supercategory': 'air-force-air-vehicles'},\n",
       " 6: {'id': 6, 'name': 'f-15', 'supercategory': 'air-force-air-vehicles'},\n",
       " 7: {'id': 7, 'name': 'f-22', 'supercategory': 'air-force-air-vehicles'},\n",
       " 8: {'id': 8, 'name': 'f-35', 'supercategory': 'air-force-air-vehicles'}}"
      ]
     },
     "execution_count": 22,
     "metadata": {},
     "output_type": "execute_result"
    }
   ],
   "source": [
    "dataset.coco.cats"
   ]
  },
  {
   "cell_type": "code",
   "execution_count": 23,
   "id": "0db88413-3483-464c-abbd-0784c4bc6914",
   "metadata": {},
   "outputs": [],
   "source": [
    "data_loader = torch.utils.data.DataLoader(\n",
    "    dataset,\n",
    "    batch_size=64,\n",
    "    num_workers=4,\n",
    "    #shuffle=True,\n",
    "    sampler=train_sampler,\n",
    "    collate_fn= utils.collate_fn#lambda batch: tuple(zip(*batch)) \n",
    ")"
   ]
  },
  {
   "cell_type": "code",
   "execution_count": 24,
   "id": "22389637-f161-4a6d-bffe-b7d5f0da1704",
   "metadata": {},
   "outputs": [],
   "source": [
    "val_data_loader = torch.utils.data.DataLoader(\n",
    "    val_ds,\n",
    "    batch_size=11,\n",
    "    num_workers=4,\n",
    "    #shuffle=False,\n",
    "    sampler=test_sampler,\n",
    "    collate_fn= utils.collate_fn#lambda batch: tuple(zip(*batch))\n",
    ")"
   ]
  },
  {
   "cell_type": "code",
   "execution_count": 25,
   "id": "c170989a-52f7-44a1-bfb9-2bf60d33bfac",
   "metadata": {},
   "outputs": [],
   "source": [
    "model = model.to(device)"
   ]
  },
  {
   "cell_type": "code",
   "execution_count": 26,
   "id": "e69f23fa-e6c7-4e35-9b14-738a731915dd",
   "metadata": {},
   "outputs": [],
   "source": [
    "dl=len(data_loader)"
   ]
  },
  {
   "cell_type": "code",
   "execution_count": 27,
   "id": "59444212-c7da-489d-937c-104fc152696a",
   "metadata": {},
   "outputs": [],
   "source": [
    "#criterion = nn.CrossEntropyLoss().cuda()\n",
    "params = [p for p in model.parameters() if p.requires_grad]\n",
    "# Observe that all parameters are being optimized\n",
    "optimizer = optim.SGD(params, lr=0.9, momentum=0.9, weight_decay=0.000001)\n",
    "scaler=torch.amp.GradScaler('cuda',enabled=True)\n",
    "# Decay LR by a factor of 0.1 every 7 epochs\n",
    "#lr_scheduler = torch.optim.lr_scheduler.StepLR(optimizer, step_size=7, gamma=0.1)\n",
    "lr_scheduler = torch.optim.lr_scheduler.PolynomialLR(optimizer, total_iters=dl*5, power=0.9)"
   ]
  },
  {
   "cell_type": "code",
   "execution_count": 28,
   "id": "a241e1c1-b00b-4508-835e-dc69366463de",
   "metadata": {},
   "outputs": [],
   "source": [
    "import train as engine"
   ]
  },
  {
   "cell_type": "code",
   "execution_count": 29,
   "id": "9f10ea9a-d14d-41b5-8496-aa7ce9435b16",
   "metadata": {
    "scrolled": true
   },
   "outputs": [
    {
     "name": "stderr",
     "output_type": "stream",
     "text": [
      "C:\\Users\\arinz\\image analysis\\segmentation\\lraspp_seg\\train.py:110: FutureWarning: `torch.cuda.amp.autocast(args...)` is deprecated. Please use `torch.amp.autocast('cuda', args...)` instead.\n",
      "  with torch.cuda.amp.autocast(enabled=scaler is not None):\n"
     ]
    },
    {
     "name": "stdout",
     "output_type": "stream",
     "text": [
      "Epoch: [0]  [0/6]  eta: 1:42:12  lr: 0.8729544401714396  loss: 3.2633 (3.2633)  time: 1022.0687  data: 57.3004  max mem: 15373\n",
      "Epoch: [0]  [1/6]  eta: 0:54:32  lr: 0.8458154393298501  loss: 0.8517 (2.0575)  time: 654.4373  data: 28.6738  max mem: 15385\n",
      "Epoch: [0]  [2/6]  eta: 0:35:15  lr: 0.818579318474666  loss: 0.8517 (1.6304)  time: 528.9890  data: 19.1595  max mem: 15385\n",
      "Epoch: [0]  [3/6]  eta: 0:23:16  lr: 0.7912421117431193  loss: 0.7761 (1.4064)  time: 465.5129  data: 14.4088  max mem: 15385\n",
      "Epoch: [0]  [4/6]  eta: 0:14:14  lr: 0.7637995321102683  loss: 0.7761 (1.2502)  time: 427.4243  data: 11.5490  max mem: 15385\n",
      "Epoch: [0]  [5/6]  eta: 0:06:41  lr: 0.7362469314457727  loss: 0.7347 (1.1507)  time: 401.9493  data: 9.6348  max mem: 15385\n",
      "Epoch: [0] Total time: 0:40:12\n",
      "Epoch: [1]  [0/6]  eta: 0:28:46  lr: 0.7085792537238788  loss: 0.5945 (0.5945)  time: 287.6859  data: 13.5867  max mem: 15385\n",
      "Epoch: [1]  [1/6]  eta: 0:23:25  lr: 0.6807909798625792  loss: 0.5232 (0.5589)  time: 281.0108  data: 6.8325  max mem: 15385\n",
      "Epoch: [1]  [2/6]  eta: 0:18:35  lr: 0.652876062243498  loss: 0.5232 (0.5330)  time: 278.9572  data: 4.6125  max mem: 15385\n",
      "Epoch: [1]  [3/6]  eta: 0:13:53  lr: 0.6248278463954465  loss: 0.4933 (0.5231)  time: 277.8842  data: 3.4671  max mem: 15385\n",
      "Epoch: [1]  [4/6]  eta: 0:09:14  lr: 0.5966389765530558  loss: 0.5232 (0.5281)  time: 277.1983  data: 2.7989  max mem: 15385\n",
      "Epoch: [1]  [5/6]  eta: 0:04:36  lr: 0.5683012807404199  loss: 0.5232 (0.5300)  time: 276.7207  data: 2.3429  max mem: 15385\n",
      "Epoch: [1] Total time: 0:27:41\n",
      "Epoch: [2]  [0/6]  eta: 0:28:40  lr: 0.539805629546909  loss: 0.4916 (0.4916)  time: 286.7215  data: 12.5507  max mem: 15385\n",
      "Epoch: [2]  [1/6]  eta: 0:23:22  lr: 0.511141760656131  loss: 0.4852 (0.4884)  time: 280.5538  data: 6.3140  max mem: 15385\n",
      "Epoch: [2]  [2/6]  eta: 0:18:34  lr: 0.48229805814133203  loss: 0.4916 (0.4923)  time: 278.7293  data: 4.2232  max mem: 15385\n",
      "Epoch: [2]  [3/6]  eta: 0:13:53  lr: 0.4532612710386048  loss: 0.4916 (0.4987)  time: 277.7179  data: 3.1912  max mem: 15385\n",
      "Epoch: [2]  [4/6]  eta: 0:09:14  lr: 0.42401614890372585  loss: 0.4916 (0.4807)  time: 277.0256  data: 2.5718  max mem: 15385\n",
      "Epoch: [2]  [5/6]  eta: 0:04:36  lr: 0.3945449614986784  loss: 0.4852 (0.4703)  time: 276.5225  data: 2.1511  max mem: 15385\n",
      "Epoch: [2] Total time: 0:27:39\n",
      "Epoch: [3]  [0/6]  eta: 0:28:40  lr: 0.36482685287539623  loss: 0.3921 (0.3921)  time: 286.7976  data: 12.4591  max mem: 15385\n",
      "Epoch: [3]  [1/6]  eta: 0:23:24  lr: 0.33483695221017157  loss: 0.3921 (0.4287)  time: 280.8260  data: 6.2764  max mem: 15385\n",
      "Epoch: [3]  [2/6]  eta: 0:18:35  lr: 0.30454511571148507  loss: 0.4446 (0.4340)  time: 278.8994  data: 4.2259  max mem: 15385\n",
      "Epoch: [3]  [3/6]  eta: 0:13:53  lr: 0.2739140873326596  loss: 0.4157 (0.4294)  time: 277.8125  data: 3.1774  max mem: 15385\n",
      "Epoch: [3]  [4/6]  eta: 0:09:14  lr: 0.24289670094732344  loss: 0.4446 (0.4337)  time: 277.1621  data: 2.5514  max mem: 15385\n",
      "Epoch: [3]  [5/6]  eta: 0:04:36  lr: 0.2114314097558435  loss: 0.4157 (0.4291)  time: 276.7038  data: 2.1366  max mem: 15385\n",
      "Epoch: [3] Total time: 0:27:40\n",
      "Epoch: [4]  [0/6]  eta: 0:28:41  lr: 0.1794346798276974  loss: 0.3588 (0.3588)  time: 286.8684  data: 12.5670  max mem: 15385\n",
      "Epoch: [4]  [1/6]  eta: 0:23:23  lr: 0.14678692490899653  loss: 0.3588 (0.3856)  time: 280.7557  data: 6.3208  max mem: 15385\n",
      "Epoch: [4]  [2/6]  eta: 0:18:35  lr: 0.11330328706147512  loss: 0.3699 (0.3804)  time: 278.8384  data: 4.2401  max mem: 15385\n",
      "Epoch: [4]  [3/6]  eta: 0:13:53  lr: 0.07866116538238503  loss: 0.3699 (0.3819)  time: 277.7960  data: 3.1998  max mem: 15385\n",
      "Epoch: [4]  [4/6]  eta: 0:09:14  lr: 0.0421534747945094  loss: 0.3819 (0.3819)  time: 277.1017  data: 2.5723  max mem: 15385\n",
      "Epoch: [4]  [5/6]  eta: 0:04:36  lr: 0.0  loss: 0.3743 (0.3807)  time: 276.6146  data: 2.1671  max mem: 15385\n",
      "Epoch: [4] Total time: 0:27:40\n"
     ]
    }
   ],
   "source": [
    "for epoch in range(5):\n",
    "    # train for one epoch, printing every 10 iterations\n",
    "    engine.train_one_epoch(model, engine.criterion, optimizer, data_loader, lr_scheduler, device, epoch, print_freq=1, scaler=scaler)\n",
    "    # update the learning rate\n",
    "    #lr_scheduler.step()\n",
    "    # evaluate on the test dataset\n",
    "    #engine.evaluate(model, val_data_loader, device, num_classes)"
   ]
  },
  {
   "cell_type": "code",
   "execution_count": 30,
   "id": "554b966b-a29b-483f-a027-8368b2f2731d",
   "metadata": {},
   "outputs": [],
   "source": [
    "torch.save(model,'models/av_lraspp_seg_custom_large.pt')"
   ]
  },
  {
   "cell_type": "code",
   "execution_count": 31,
   "id": "88d0173c-85cf-4cd5-9534-1505ea21fe1f",
   "metadata": {},
   "outputs": [],
   "source": [
    "torch.save(model.state_dict(),'models/av_lraspp_seg_custom_large.pth')"
   ]
  },
  {
   "cell_type": "code",
   "execution_count": null,
   "id": "7b74d982-c5f8-48fc-9c0d-148ff9aa5b40",
   "metadata": {},
   "outputs": [],
   "source": []
  },
  {
   "cell_type": "code",
   "execution_count": null,
   "id": "8e23e099-1f38-4fab-bd17-5f8450623998",
   "metadata": {},
   "outputs": [],
   "source": []
  },
  {
   "cell_type": "markdown",
   "id": "fba1c08e-dd88-4e3b-a7c5-4acf99589741",
   "metadata": {
    "jp-MarkdownHeadingCollapsed": true
   },
   "source": [
    "# error corrections"
   ]
  },
  {
   "cell_type": "raw",
   "id": "eb15cf29-cb59-4aab-a33e-e2f95ae3d49b",
   "metadata": {},
   "source": [
    "def coll_fn(data):\n",
    "    image=next(iter(data))[0]\n",
    "    boxes=next(iter(dataset))[1]['boxes'].type(torch.LongTensor)\n",
    "    masks=next(iter(dataset))[1]['masks'].type(torch.LongTensor)\n",
    "    labels=next(iter(dataset))[1]['labels'].type(torch.LongTensor)\n",
    "    bboxes=torch.Tensor(next(iter(dataset))[1]['bbox'])\n",
    "\n",
    "    \n",
    "    image = pad_sequence(image, batch_first=True)\n",
    "\n",
    "    data_dict= {'boxes_':boxes,'masks_':masks,'labels_':labels,'bbox_':bboxes}\n",
    "    data_list=[boxes,masks,labels,bboxes]\n",
    "    return image.unsqueeze(0), masks.squeeze(1)\n",
    "    "
   ]
  },
  {
   "cell_type": "raw",
   "id": "2323ac08-75a9-43ca-b7a7-c06b71de2388",
   "metadata": {},
   "source": [
    "loader = torch.utils.data.DataLoader(\n",
    "    dataset,\n",
    "    batch_size=1,\n",
    "    #num_workers=2,\n",
    "    shuffle=True,\n",
    "    collate_fn=coll_fn)\n",
    "    \n",
    "   "
   ]
  }
 ],
 "metadata": {
  "kernelspec": {
   "display_name": "Python 3 (ipykernel)",
   "language": "python",
   "name": "python3"
  },
  "language_info": {
   "codemirror_mode": {
    "name": "ipython",
    "version": 3
   },
   "file_extension": ".py",
   "mimetype": "text/x-python",
   "name": "python",
   "nbconvert_exporter": "python",
   "pygments_lexer": "ipython3",
   "version": "3.11.10"
  }
 },
 "nbformat": 4,
 "nbformat_minor": 5
}
